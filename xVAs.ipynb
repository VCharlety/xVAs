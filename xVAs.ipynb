{
 "cells": [
  {
   "cell_type": "code",
   "execution_count": 1,
   "metadata": {},
   "outputs": [
    {
     "name": "stdout",
     "output_type": "stream",
     "text": [
      "hello world Jupyter\n"
     ]
    }
   ],
   "source": [
    "print('hello world Jupyter')\n"
   ]
  },
  {
   "cell_type": "markdown",
   "metadata": {},
   "source": [
    "# Import Required Libraries\n",
    "Import libraries such as NumPy, pandas, and matplotlib for numerical computations, data handling, and visualization."
   ]
  },
  {
   "cell_type": "code",
   "execution_count": null,
   "metadata": {},
   "outputs": [],
   "source": [
    "# Import necessary libraries for numerical computations, data handling, and visualization\n",
    "import numpy as np  # For numerical computations\n",
    "import pandas as pd  # For data manipulation and analysis\n",
    "import matplotlib.pyplot as plt  # For data visualization\n",
    "\n",
    "# Enable inline plotting for Jupyter Notebook\n",
    "%matplotlib inline"
   ]
  },
  {
   "cell_type": "markdown",
   "metadata": {},
   "source": [
    "# Define Interest Rate Swap Parameters\n",
    "Define parameters for the interest rate swap, including notional amount, fixed rate, floating rate index, and maturity."
   ]
  },
  {
   "cell_type": "code",
   "execution_count": null,
   "metadata": {},
   "outputs": [],
   "source": [
    "# Define parameters for the interest rate swap\n",
    "notional_amount = 1000000  # Notional amount in USD\n",
    "fixed_rate = 0.02  # Fixed rate (2%)\n",
    "floating_rate_index = \"LIBOR\"  # Floating rate index\n",
    "maturity_years = 5  # Maturity in years\n",
    "\n",
    "# Display the defined parameters\n",
    "print(\"Interest Rate Swap Parameters:\")\n",
    "print(f\"Notional Amount: ${notional_amount}\")\n",
    "print(f\"Fixed Rate: {fixed_rate * 100}%\")\n",
    "print(f\"Floating Rate Index: {floating_rate_index}\")\n",
    "print(f\"Maturity: {maturity_years} years\")"
   ]
  },
  {
   "cell_type": "markdown",
   "metadata": {},
   "source": [
    "# Simulate Interest Rate Paths\n",
    "Use a stochastic model (e.g., Hull-White or Black-Karasinski) to simulate interest rate paths over time."
   ]
  },
  {
   "cell_type": "code",
   "execution_count": null,
   "metadata": {},
   "outputs": [],
   "source": [
    "# Define parameters for the Hull-White model\n",
    "mean_reversion_speed = 0.03  # Speed of mean reversion (kappa)\n",
    "long_term_mean_rate = 0.02  # Long-term mean rate (theta)\n",
    "volatility = 0.01  # Volatility of interest rates (sigma)\n",
    "time_steps = 252  # Number of time steps in a year\n",
    "total_years = maturity_years  # Total simulation years\n",
    "dt = 1 / time_steps  # Time step size\n",
    "\n",
    "# Initialize arrays to store simulated interest rate paths\n",
    "num_simulations = 1000  # Number of Monte Carlo simulations\n",
    "interest_rate_paths = np.zeros((num_simulations, total_years * time_steps + 1))\n",
    "\n",
    "# Set initial interest rate (e.g., current LIBOR rate)\n",
    "initial_rate = 0.015  # 1.5%\n",
    "interest_rate_paths[:, 0] = initial_rate\n",
    "\n",
    "# Simulate interest rate paths using the Hull-White model\n",
    "np.random.seed(42)  # Set seed for reproducibility\n",
    "for t in range(1, total_years * time_steps + 1):\n",
    "    # Generate random normal shocks\n",
    "    z = np.random.normal(0, 1, num_simulations)\n",
    "    # Apply the Hull-White model formula\n",
    "    dr = mean_reversion_speed * (long_term_mean_rate - interest_rate_paths[:, t - 1]) * dt + \\\n",
    "         volatility * np.sqrt(dt) * z\n",
    "    interest_rate_paths[:, t] = interest_rate_paths[:, t - 1] + dr\n",
    "\n",
    "# Plot a subset of simulated interest rate paths\n",
    "plt.figure(figsize=(12, 6))\n",
    "for i in range(10):  # Plot 10 random paths\n",
    "    plt.plot(np.linspace(0, total_years, total_years * time_steps + 1), interest_rate_paths[i, :], lw=0.8)\n",
    "plt.title(\"Simulated Interest Rate Paths (Hull-White Model)\")\n",
    "plt.xlabel(\"Time (Years)\")\n",
    "plt.ylabel(\"Interest Rate\")\n",
    "plt.grid(True)\n",
    "plt.show()"
   ]
  },
  {
   "cell_type": "markdown",
   "metadata": {},
   "source": [
    "# Calculate Exposure Profiles\n",
    "Compute the potential future exposure (PFE) and expected exposure (EE) for the interest rate swap based on the simulated paths."
   ]
  },
  {
   "cell_type": "code",
   "execution_count": null,
   "metadata": {},
   "outputs": [],
   "source": [
    "# Calculate Exposure Profiles\n",
    "\n",
    "# Define a function to calculate the discounted cash flows for the interest rate swap\n",
    "def calculate_swap_exposure(interest_rate_paths, notional_amount, fixed_rate, dt):\n",
    "    num_simulations, num_steps = interest_rate_paths.shape\n",
    "    discounted_cash_flows = np.zeros((num_simulations, num_steps))\n",
    "    \n",
    "    for t in range(1, num_steps):\n",
    "        # Calculate the floating rate cash flow\n",
    "        floating_rate_cash_flow = interest_rate_paths[:, t] * notional_amount * dt\n",
    "        # Calculate the fixed rate cash flow\n",
    "        fixed_rate_cash_flow = fixed_rate * notional_amount * dt\n",
    "        # Net cash flow (floating - fixed)\n",
    "        net_cash_flow = floating_rate_cash_flow - fixed_rate_cash_flow\n",
    "        # Discount the net cash flow to the present value\n",
    "        discount_factor = np.exp(-np.cumsum(interest_rate_paths[:, :t], axis=1) * dt)\n",
    "        discounted_cash_flows[:, t] = np.sum(net_cash_flow[:, None] * discount_factor, axis=1)\n",
    "    \n",
    "    return discounted_cash_flows\n",
    "\n",
    "# Calculate the discounted cash flows for the interest rate swap\n",
    "discounted_cash_flows = calculate_swap_exposure(interest_rate_paths, notional_amount, fixed_rate, dt)\n",
    "\n",
    "# Compute the Potential Future Exposure (PFE) and Expected Exposure (EE)\n",
    "pfe = np.percentile(discounted_cash_flows, 95, axis=0)  # 95th percentile\n",
    "ee = np.mean(discounted_cash_flows, axis=0)  # Average exposure\n",
    "\n",
    "# Plot the PFE and EE profiles\n",
    "plt.figure(figsize=(12, 6))\n",
    "time_grid = np.linspace(0, total_years, total_years * time_steps + 1)\n",
    "plt.plot(time_grid, pfe, label=\"Potential Future Exposure (PFE)\", color=\"red\")\n",
    "plt.plot(time_grid, ee, label=\"Expected Exposure (EE)\", color=\"blue\")\n",
    "plt.title(\"Exposure Profiles for Interest Rate Swap\")\n",
    "plt.xlabel(\"Time (Years)\")\n",
    "plt.ylabel(\"Exposure (USD)\")\n",
    "plt.legend()\n",
    "plt.grid(True)\n",
    "plt.show()"
   ]
  },
  {
   "cell_type": "markdown",
   "metadata": {},
   "source": [
    "# Compute xVA Metrics\n",
    "Calculate xVA metrics such as CVA (Credit Valuation Adjustment), DVA (Debit Valuation Adjustment), and FVA (Funding Valuation Adjustment)."
   ]
  },
  {
   "cell_type": "code",
   "execution_count": null,
   "metadata": {},
   "outputs": [],
   "source": [
    "# Compute xVA Metrics\n",
    "\n",
    "# Define a function to calculate CVA (Credit Valuation Adjustment)\n",
    "def calculate_cva(ee, counterparty_pd, counterparty_lgd, dt):\n",
    "    \"\"\"\n",
    "    CVA is calculated as the discounted sum of expected exposure (EE) \n",
    "    multiplied by the counterparty's probability of default (PD) and loss given default (LGD).\n",
    "    \"\"\"\n",
    "    cva = np.sum(ee * counterparty_pd * counterparty_lgd * dt)\n",
    "    return cva\n",
    "\n",
    "# Define a function to calculate DVA (Debit Valuation Adjustment)\n",
    "def calculate_dva(ee, own_pd, own_lgd, dt):\n",
    "    \"\"\"\n",
    "    DVA is calculated as the discounted sum of expected exposure (EE) \n",
    "    multiplied by the firm's own probability of default (PD) and loss given default (LGD).\n",
    "    \"\"\"\n",
    "    dva = np.sum(ee * own_pd * own_lgd * dt)\n",
    "    return dva\n",
    "\n",
    "# Define a function to calculate FVA (Funding Valuation Adjustment)\n",
    "def calculate_fva(ee, funding_spread, dt):\n",
    "    \"\"\"\n",
    "    FVA is calculated as the discounted sum of expected exposure (EE) \n",
    "    multiplied by the funding spread.\n",
    "    \"\"\"\n",
    "    fva = np.sum(ee * funding_spread * dt)\n",
    "    return fva\n",
    "\n",
    "# Define parameters for xVA calculations\n",
    "counterparty_pd = 0.01  # Counterparty probability of default per year\n",
    "counterparty_lgd = 0.6  # Counterparty loss given default (60%)\n",
    "own_pd = 0.005  # Firm's own probability of default per year\n",
    "own_lgd = 0.4  # Firm's own loss given default (40%)\n",
    "funding_spread = 0.002  # Funding spread (0.2%)\n",
    "\n",
    "# Calculate CVA, DVA, and FVA\n",
    "cva = calculate_cva(ee, counterparty_pd, counterparty_lgd, dt)\n",
    "dva = calculate_dva(ee, own_pd, own_lgd, dt)\n",
    "fva = calculate_fva(ee, funding_spread, dt)\n",
    "\n",
    "# Display the calculated xVA metrics\n",
    "print(\"xVA Metrics:\")\n",
    "print(f\"Credit Valuation Adjustment (CVA): ${cva:,.2f}\")\n",
    "print(f\"Debit Valuation Adjustment (DVA): ${dva:,.2f}\")\n",
    "print(f\"Funding Valuation Adjustment (FVA): ${fva:,.2f}\")"
   ]
  }
 ],
 "metadata": {
  "kernelspec": {
   "display_name": "Python 3",
   "language": "python",
   "name": "python3"
  },
  "language_info": {
   "codemirror_mode": {
    "name": "ipython",
    "version": 3
   },
   "file_extension": ".py",
   "mimetype": "text/x-python",
   "name": "python",
   "nbconvert_exporter": "python",
   "pygments_lexer": "ipython3",
   "version": "3.11.5"
  }
 },
 "nbformat": 4,
 "nbformat_minor": 2
}
